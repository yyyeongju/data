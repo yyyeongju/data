{
 "cells": [
  {
   "cell_type": "markdown",
   "metadata": {},
   "source": [
    "제목1\n",
    "======\n",
    "부제목\n",
    "-------\n",
    "# h1\n",
    "### h3\n",
    "###### h6"
   ]
  },
  {
   "cell_type": "markdown",
   "metadata": {},
   "source": [
    "> content1\n",
    ">   >content2\n",
    ">   >   >content3"
   ]
  },
  {
   "cell_type": "markdown",
   "metadata": {},
   "source": [
    "## list\n",
    "\n",
    "1. 첫번째\n",
    "2. 두번쨰\n",
    "3. 세 번째\n",
    "\n",
    "* 리스트1\n",
    "    * 리스트2\n",
    "        * 리스트3"
   ]
  },
  {
   "cell_type": "markdown",
   "metadata": {},
   "source": [
    "### code\n",
    "var i =0"
   ]
  },
  {
   "cell_type": "markdown",
   "metadata": {},
   "source": [
    "--------------\n",
    "*********"
   ]
  },
  {
   "cell_type": "markdown",
   "metadata": {},
   "source": [
    "[Google][googlelink]\n",
    "[googlelink]:[http://www.google.com]"
   ]
  },
  {
   "cell_type": "markdown",
   "metadata": {},
   "source": [
    "![Alt text](https://search.pstatic.net/sunny/?src=https%3A%2F%2Fwww.zooseyo.com%2Fdog_sale%2Fphoto%2F202108%2F1629614260_12392400.jpg&type=sc960_832)\n",
    "\n",
    "<img src = \"https://search.pstatic.net/sunny/?src=https%3A%2F%2Fwww.zooseyo.com%2Fdog_sale%2Fphoto%2F202108%2F1629614260_12392400.jpg&type=sc960_832\" width = \"40%\">"
   ]
  }
 ],
 "metadata": {
  "language_info": {
   "name": "python"
  },
  "orig_nbformat": 4
 },
 "nbformat": 4,
 "nbformat_minor": 2
}
